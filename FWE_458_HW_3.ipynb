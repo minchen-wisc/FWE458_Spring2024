{
  "nbformat": 4,
  "nbformat_minor": 0,
  "metadata": {
    "colab": {
      "provenance": [],
      "authorship_tag": "ABX9TyOeRibKSBgz/EFyH8NZFksj",
      "include_colab_link": true
    },
    "kernelspec": {
      "name": "python3",
      "display_name": "Python 3"
    },
    "language_info": {
      "name": "python"
    }
  },
  "cells": [
    {
      "cell_type": "markdown",
      "metadata": {
        "id": "view-in-github",
        "colab_type": "text"
      },
      "source": [
        "<a href=\"https://colab.research.google.com/github/rrf182/FWE458_Spring2024/blob/my_branch/FWE_458_HW_3.ipynb\" target=\"_parent\"><img src=\"https://colab.research.google.com/assets/colab-badge.svg\" alt=\"Open In Colab\"/></a>"
      ]
    },
    {
      "cell_type": "code",
      "execution_count": 2,
      "metadata": {
        "id": "kZq0SzMgYyM0",
        "colab": {
          "base_uri": "https://localhost:8080/"
        },
        "outputId": "c10e9dbf-aa82-4e20-fac1-15c361350632"
      },
      "outputs": [
        {
          "output_type": "stream",
          "name": "stdout",
          "text": [
            "Mounted at /content/drive\n"
          ]
        }
      ],
      "source": [
        "# connect the google drive\n",
        "from google.colab import drive\n",
        "drive.mount('/content/drive')\n",
        "\n",
        "filedir = '/content/drive/MyDrive/Env Data Science/' #this is where my data is located in my drive\n"
      ]
    },
    {
      "cell_type": "code",
      "source": [
        "import pandas as pd\n",
        "\n",
        "fname = filedir + \"MaunaLoaCO2_monthly_sitename.csv\" #reads the csv\n",
        "DF = pd.read_csv(fname) #creates a dataframe named DF from the csv\n",
        "\n",
        "print(DF)\n",
        "print(len(DF))\n",
        "\n",
        "# this creates a new data frame that only includes rows where the values of 'numofdays' and 'stdofdays' are above 0\n",
        "DF_clean = DF[(DF['numofdays'] >= 0) & (DF['stdofdays'] >= 0)]\n",
        "\n",
        "print(DF_clean)\n",
        "print(len(DF_clean))\n",
        "\n",
        "#printing both the original data frame and the cleaned data frame shows the filter worked"
      ],
      "metadata": {
        "colab": {
          "base_uri": "https://localhost:8080/"
        },
        "id": "gLur7i3vncRP",
        "outputId": "7e0da3b0-4db4-4c67-ea01-8d7bc2a82dc4"
      },
      "execution_count": 33,
      "outputs": [
        {
          "output_type": "stream",
          "name": "stdout",
          "text": [
            "     Year  Month  Decimal_date  Monthly_average  deseasonalized  numofdays  \\\n",
            "0    1958      3     1958.2027           315.70          314.43         -1   \n",
            "1    1958      4     1958.2877           317.45          315.16         -1   \n",
            "2    1958      5     1958.3699           317.51          314.71         -1   \n",
            "3    1958      6     1958.4548           317.24          315.14         -1   \n",
            "4    1958      7     1958.5370           315.86          315.18         -1   \n",
            "..    ...    ...           ...              ...             ...        ...   \n",
            "762  2021      9     2021.7083           413.30          416.90         27   \n",
            "763  2021     10     2021.7917           413.93          417.30         29   \n",
            "764  2021     11     2021.8750           415.01          417.07         30   \n",
            "765  2021     12     2021.9583           416.71          417.44         28   \n",
            "766  2022      1     2022.0417           418.19          417.87         29   \n",
            "\n",
            "     stdofdays      site  \n",
            "0        -9.99  MaunaLoa  \n",
            "1        -9.99  MaunaLoa  \n",
            "2        -9.99  MaunaLoa  \n",
            "3        -9.99  MaunaLoa  \n",
            "4        -9.99  MaunaLoa  \n",
            "..         ...       ...  \n",
            "762       0.29  MaunaLoa  \n",
            "763       0.35  MaunaLoa  \n",
            "764       0.36  MaunaLoa  \n",
            "765       0.48  MaunaLoa  \n",
            "766       0.75  MaunaLoa  \n",
            "\n",
            "[767 rows x 8 columns]\n",
            "767\n",
            "     Year  Month  Decimal_date  Monthly_average  deseasonalized  numofdays  \\\n",
            "194  1974      5     1974.3750           333.19          330.22         13   \n",
            "195  1974      6     1974.4583           332.20          329.78         25   \n",
            "196  1974      7     1974.5417           331.07          330.21         24   \n",
            "197  1974      8     1974.6250           329.15          330.54         26   \n",
            "198  1974      9     1974.7083           327.33          330.44         22   \n",
            "..    ...    ...           ...              ...             ...        ...   \n",
            "762  2021      9     2021.7083           413.30          416.90         27   \n",
            "763  2021     10     2021.7917           413.93          417.30         29   \n",
            "764  2021     11     2021.8750           415.01          417.07         30   \n",
            "765  2021     12     2021.9583           416.71          417.44         28   \n",
            "766  2022      1     2022.0417           418.19          417.87         29   \n",
            "\n",
            "     stdofdays      site  \n",
            "194       0.31  MaunaLoa  \n",
            "195       0.37  MaunaLoa  \n",
            "196       0.24  MaunaLoa  \n",
            "197       0.31  MaunaLoa  \n",
            "198       0.47  MaunaLoa  \n",
            "..         ...       ...  \n",
            "762       0.29  MaunaLoa  \n",
            "763       0.35  MaunaLoa  \n",
            "764       0.36  MaunaLoa  \n",
            "765       0.48  MaunaLoa  \n",
            "766       0.75  MaunaLoa  \n",
            "\n",
            "[571 rows x 8 columns]\n",
            "571\n"
          ]
        }
      ]
    },
    {
      "cell_type": "code",
      "source": [
        "import numpy as np\n",
        "\n",
        "# to find the annual average I created a for loop that filled an empty array with the values\n",
        "annual_avg = [] # this creates an empty array for me to place the calculated means in\n",
        "for i in range(1959, 2021): # selecting the range of years to be used, excluding 1958 and 2022\n",
        "  da = DF_clean.loc[(DF_clean[\"Year\"] == i), [\"Monthly_average\", \"site\"]] # using the loc function to select the different years\n",
        "  annual_avg.append(da[\"Monthly_average\"].mean()) # this finds the mean of those months for the year and appends it to the empty array\n",
        "\n",
        "print(annual_avg)\n",
        "print(len(annual_avg))"
      ],
      "metadata": {
        "colab": {
          "base_uri": "https://localhost:8080/"
        },
        "id": "RlkMyuK5prYG",
        "outputId": "804294ea-4680-46a2-c798-a03532dcb745"
      },
      "execution_count": 67,
      "outputs": [
        {
          "output_type": "stream",
          "name": "stdout",
          "text": [
            "[nan, nan, nan, nan, nan, nan, nan, nan, nan, nan, nan, nan, nan, nan, nan, 329.76375, 331.1609090909091, 332.02666666666664, 333.8433333333333, 335.41499999999996, 336.8358333333333, 338.7625, 340.1191666666667, 341.4791666666667, 343.1525, 344.6390909090909, 346.3516666666667, 347.60833333333335, 349.3125, 351.69083333333333, 353.205, 354.4533333333334, 355.70416666666665, 356.54416666666674, 357.21583333333325, 358.9591666666667, 360.9683333333333, 362.74333333333334, 363.8775, 366.84, 368.53999999999996, 369.70666666666665, 371.31916666666666, 373.45250000000004, 375.98333333333335, 377.69833333333344, 379.98333333333335, 382.09083333333336, 384.0249999999999, 385.83083333333326, 387.6433333333334, 390.1016666666667, 391.85083333333336, 394.05583333333334, 396.7375, 398.87083333333334, 401.01250000000005, 404.41249999999997, 406.7575, 408.715, 411.6541666666667, 414.2383333333333]\n",
            "62\n"
          ]
        }
      ]
    },
    {
      "cell_type": "code",
      "source": [
        "# to find the deseasoned annual average I created a for loop that filled an empty array with the values\n",
        "deseasoned_avg = []\n",
        "for i in range(1959, 2021): # selecting the range of years to be used, excluding 1958 and 2022\n",
        "  da = DF_clean.loc[(DF_clean[\"Year\"] == i), [\"deseasonalized\", \"site\"]] # using the loc function to select the different years\n",
        "  deseasoned_avg.append(da[\"deseasonalized\"].mean()) # this finds the mean of those months for the year and appends it to the empty array\n",
        "\n",
        "print(deseasoned_avg)\n",
        "print(len(deseasoned_avg))"
      ],
      "metadata": {
        "id": "isjD6QqFndFI",
        "colab": {
          "base_uri": "https://localhost:8080/"
        },
        "outputId": "1129326a-a45f-4430-8471-eaf2bbb4df8b"
      },
      "execution_count": 42,
      "outputs": [
        {
          "output_type": "stream",
          "name": "stdout",
          "text": [
            "[nan, nan, nan, nan, nan, nan, nan, nan, nan, nan, nan, nan, nan, nan, nan, 330.34625, 331.0727272727273, 332.02833333333336, 333.8416666666667, 335.4133333333333, 336.83583333333337, 338.76500000000004, 340.12, 341.47666666666663, 343.1525000000001, 344.87454545454545, 346.35083333333336, 347.60833333333335, 349.31333333333333, 351.6908333333333, 353.205, 354.45166666666665, 355.7033333333333, 356.5458333333333, 357.2141666666667, 358.96000000000004, 360.96666666666664, 362.74333333333334, 363.8766666666666, 366.83916666666664, 368.5408333333333, 369.7075, 371.3183333333333, 373.45250000000004, 375.98333333333335, 377.69750000000005, 379.9825, 382.08916666666664, 384.0241666666666, 385.83, 387.64333333333326, 390.1016666666667, 391.85083333333324, 394.05583333333334, 396.7383333333333, 398.87000000000006, 401.01250000000005, 404.41416666666663, 406.7575, 408.715, 411.6558333333333, 414.23583333333335]\n",
            "62\n"
          ]
        }
      ]
    },
    {
      "cell_type": "code",
      "source": [
        "# to find the standard deviation of the monthly average for each year\n",
        "stdmonths = [] # empty array to place values in after calculation\n",
        "for i in range(1959, 2021): # selecting the range of years to be used, excluding 1958 and 2022\n",
        "  da = DF_clean.loc[(DF_clean[\"Year\"] == i), [\"Monthly_average\", \"site\"]]  # using the loc function to select the different years\n",
        "  stdmonths.append(da[\"Monthly_average\"].std()) # using the standard deviation function instead of the .mean() function\n",
        "\n",
        "print(stdmonths)\n",
        "print(len(stdmonths))"
      ],
      "metadata": {
        "colab": {
          "base_uri": "https://localhost:8080/"
        },
        "id": "YHR499PQxURZ",
        "outputId": "b2901a6a-cab6-4dc9-c6d0-0aeb2a5ebcb3"
      },
      "execution_count": 44,
      "outputs": [
        {
          "output_type": "stream",
          "name": "stdout",
          "text": [
            "[nan, nan, nan, nan, nan, nan, nan, nan, nan, nan, nan, nan, nan, nan, nan, 2.2037885398947537, 1.9437512934810088, 2.0856101498050172, 1.9318824231742728, 1.9950142400949942, 1.8376390897677377, 1.8712714442810863, 2.1059891147665444, 2.151386269080437, 1.9360931842713085, 1.9635195672335701, 1.9969833309876133, 1.8343581157913766, 1.8004298729116532, 1.780860151384122, 1.9785692718821832, 1.8923786538895881, 2.343313343162292, 2.3044323234439585, 2.033597163708295, 1.916656455835781, 1.9536717568039226, 1.9606693353098108, 2.0085776287983212, 1.7905204931426006, 2.080349620966279, 1.6954341537485316, 1.8937718895624593, 1.7354073401837493, 1.8408364370249701, 2.1100617540869804, 1.9879150033656003, 2.0270644172090733, 1.9585871531192138, 1.7452088092485571, 1.876642714740311, 2.0272903246960112, 1.7379583546288642, 1.823774598978398, 1.956230721659289, 2.062092751345463, 1.9679067097252907, 2.208718777111204, 2.0309430187611235, 1.7877182002867136, 1.9409625462797155, 1.8809467313192663]\n",
            "62\n"
          ]
        }
      ]
    },
    {
      "cell_type": "code",
      "source": [
        "import numpy as np\n",
        "\n",
        "used_years = np.arange(1959, 2021) #created a new series with the data range we want, it excludes both 1958 and 2022\n",
        "\n",
        "final_df = pd.DataFrame(data= [used_years, annual_avg, deseasoned_avg, stdmonths]).T #this creates a new dataframe and creates the columns based off the arrays we have calculated above\n",
        "final_df.columns=['Years', \"Annual Avg\", 'Deseasoned Avg', 'Stdev Months'] #this creates headers for the columns\n",
        "final_df.dropna(subset=['Annual Avg', 'Deseasoned Avg', 'Stdev Months'], inplace=True) #this removes all the NaN null values created from the earlier calculations and does it within the current dataframe\n",
        "print(final_df)"
      ],
      "metadata": {
        "colab": {
          "base_uri": "https://localhost:8080/"
        },
        "id": "1CGEUrCV3mEl",
        "outputId": "96523e61-b4c2-4347-ab69-0f6c0cee9f5e"
      },
      "execution_count": 63,
      "outputs": [
        {
          "output_type": "stream",
          "name": "stdout",
          "text": [
            "     Years  Annual Avg  Deseasoned Avg  Stdev Months\n",
            "15  1974.0  329.763750      330.346250      2.203789\n",
            "16  1975.0  331.160909      331.072727      1.943751\n",
            "17  1976.0  332.026667      332.028333      2.085610\n",
            "18  1977.0  333.843333      333.841667      1.931882\n",
            "19  1978.0  335.415000      335.413333      1.995014\n",
            "20  1979.0  336.835833      336.835833      1.837639\n",
            "21  1980.0  338.762500      338.765000      1.871271\n",
            "22  1981.0  340.119167      340.120000      2.105989\n",
            "23  1982.0  341.479167      341.476667      2.151386\n",
            "24  1983.0  343.152500      343.152500      1.936093\n",
            "25  1984.0  344.639091      344.874545      1.963520\n",
            "26  1985.0  346.351667      346.350833      1.996983\n",
            "27  1986.0  347.608333      347.608333      1.834358\n",
            "28  1987.0  349.312500      349.313333      1.800430\n",
            "29  1988.0  351.690833      351.690833      1.780860\n",
            "30  1989.0  353.205000      353.205000      1.978569\n",
            "31  1990.0  354.453333      354.451667      1.892379\n",
            "32  1991.0  355.704167      355.703333      2.343313\n",
            "33  1992.0  356.544167      356.545833      2.304432\n",
            "34  1993.0  357.215833      357.214167      2.033597\n",
            "35  1994.0  358.959167      358.960000      1.916656\n",
            "36  1995.0  360.968333      360.966667      1.953672\n",
            "37  1996.0  362.743333      362.743333      1.960669\n",
            "38  1997.0  363.877500      363.876667      2.008578\n",
            "39  1998.0  366.840000      366.839167      1.790520\n",
            "40  1999.0  368.540000      368.540833      2.080350\n",
            "41  2000.0  369.706667      369.707500      1.695434\n",
            "42  2001.0  371.319167      371.318333      1.893772\n",
            "43  2002.0  373.452500      373.452500      1.735407\n",
            "44  2003.0  375.983333      375.983333      1.840836\n",
            "45  2004.0  377.698333      377.697500      2.110062\n",
            "46  2005.0  379.983333      379.982500      1.987915\n",
            "47  2006.0  382.090833      382.089167      2.027064\n",
            "48  2007.0  384.025000      384.024167      1.958587\n",
            "49  2008.0  385.830833      385.830000      1.745209\n",
            "50  2009.0  387.643333      387.643333      1.876643\n",
            "51  2010.0  390.101667      390.101667      2.027290\n",
            "52  2011.0  391.850833      391.850833      1.737958\n",
            "53  2012.0  394.055833      394.055833      1.823775\n",
            "54  2013.0  396.737500      396.738333      1.956231\n",
            "55  2014.0  398.870833      398.870000      2.062093\n",
            "56  2015.0  401.012500      401.012500      1.967907\n",
            "57  2016.0  404.412500      404.414167      2.208719\n",
            "58  2017.0  406.757500      406.757500      2.030943\n",
            "59  2018.0  408.715000      408.715000      1.787718\n",
            "60  2019.0  411.654167      411.655833      1.940963\n",
            "61  2020.0  414.238333      414.235833      1.880947\n"
          ]
        }
      ]
    },
    {
      "cell_type": "code",
      "source": [
        "# this exports my final dataframe to the same location where I have stored the original data in my google drive\n",
        "# the index=false removes the index from the final csv\n",
        "final_df.to_csv('/content/drive/My Drive/Env Data Science/Ferus_MaunaLoaCO2_annual_Hw3.csv', index=False)"
      ],
      "metadata": {
        "id": "URGNoRz1H9-i"
      },
      "execution_count": 66,
      "outputs": []
    },
    {
      "cell_type": "code",
      "source": [],
      "metadata": {
        "id": "J0ifVtWPIeqZ"
      },
      "execution_count": null,
      "outputs": []
    }
  ]
}